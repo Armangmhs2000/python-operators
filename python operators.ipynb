{
 "cells": [
  {
   "cell_type": "code",
   "execution_count": 1,
   "id": "7a06add3-d6b6-41c7-ae20-97c7c6b7fe4c",
   "metadata": {},
   "outputs": [],
   "source": [
    "#Assignment operator\n",
    "x=2\n",
    "y=5\n",
    "z=6\n"
   ]
  },
  {
   "cell_type": "code",
   "execution_count": 2,
   "id": "13a8868c-8a37-4585-83e9-666b70239b3d",
   "metadata": {},
   "outputs": [
    {
     "data": {
      "text/plain": [
       "10"
      ]
     },
     "execution_count": 2,
     "metadata": {},
     "output_type": "execute_result"
    }
   ],
   "source": [
    "x*y"
   ]
  },
  {
   "cell_type": "code",
   "execution_count": 3,
   "id": "7135439d-3176-406a-8cc3-97b84093522a",
   "metadata": {},
   "outputs": [
    {
     "data": {
      "text/plain": [
       "0.4"
      ]
     },
     "execution_count": 3,
     "metadata": {},
     "output_type": "execute_result"
    }
   ],
   "source": [
    "x/y"
   ]
  },
  {
   "cell_type": "code",
   "execution_count": 4,
   "id": "618f5dd5-68c2-469e-a0c1-d0d6fea44453",
   "metadata": {},
   "outputs": [
    {
     "data": {
      "text/plain": [
       "32"
      ]
     },
     "execution_count": 4,
     "metadata": {},
     "output_type": "execute_result"
    }
   ],
   "source": [
    "x**y\n",
    "#exponential operator"
   ]
  },
  {
   "cell_type": "code",
   "execution_count": 5,
   "id": "d44b8f5c-d135-42f3-9d96-43305b6057ff",
   "metadata": {},
   "outputs": [
    {
     "data": {
      "text/plain": [
       "0"
      ]
     },
     "execution_count": 5,
     "metadata": {},
     "output_type": "execute_result"
    }
   ],
   "source": [
    "x//y \n",
    "#floor division ,here division resullt is 0.4 but floor division will take the floor value;which is 0"
   ]
  },
  {
   "cell_type": "code",
   "execution_count": 6,
   "id": "7257d69b-4286-4657-ac1f-c5eff3c9b587",
   "metadata": {},
   "outputs": [
    {
     "data": {
      "text/plain": [
       "0"
      ]
     },
     "execution_count": 6,
     "metadata": {},
     "output_type": "execute_result"
    }
   ],
   "source": [
    "import math\n",
    "math.floor(x/y)\n",
    "#equal instruction for floor division"
   ]
  },
  {
   "cell_type": "code",
   "execution_count": 7,
   "id": "44999be0-41aa-4035-b66e-e53ceeb069fc",
   "metadata": {},
   "outputs": [
    {
     "data": {
      "text/plain": [
       "1"
      ]
     },
     "execution_count": 7,
     "metadata": {},
     "output_type": "execute_result"
    }
   ],
   "source": [
    "import math\n",
    "math.ceil(x/y)\n",
    "#equal instruction for ceil division;it will return the ceiling means upper value"
   ]
  },
  {
   "cell_type": "code",
   "execution_count": 8,
   "id": "d5b17c8f-37ae-4b6a-9e5c-4952732c673b",
   "metadata": {},
   "outputs": [
    {
     "data": {
      "text/plain": [
       "False"
      ]
     },
     "execution_count": 8,
     "metadata": {},
     "output_type": "execute_result"
    }
   ],
   "source": [
    "p=2345\n",
    "q=1234\n",
    "r=1234\n",
    "q is r\n",
    "#identity operator ;is operator returs true when the variables are the same object ;which means memory address same then is operator returns true"
   ]
  },
  {
   "cell_type": "code",
   "execution_count": 9,
   "id": "304be873-610b-4e65-af88-a7e91911c708",
   "metadata": {},
   "outputs": [
    {
     "data": {
      "text/plain": [
       "True"
      ]
     },
     "execution_count": 9,
     "metadata": {},
     "output_type": "execute_result"
    }
   ],
   "source": [
    "p=2345\n",
    "q=1234\n",
    "r=p\n",
    "p is r"
   ]
  },
  {
   "cell_type": "code",
   "execution_count": 10,
   "id": "e240b7da-2b9b-49fe-9b6b-b5dc11fb6895",
   "metadata": {},
   "outputs": [
    {
     "data": {
      "text/plain": [
       "True"
      ]
     },
     "execution_count": 10,
     "metadata": {},
     "output_type": "execute_result"
    }
   ],
   "source": [
    "p==r #comparison operator same as identity operator "
   ]
  },
  {
   "cell_type": "code",
   "execution_count": 11,
   "id": "66d136dd-c532-493a-a6f6-cc1cd8fe5ee8",
   "metadata": {},
   "outputs": [
    {
     "data": {
      "text/plain": [
       "1816615490448"
      ]
     },
     "execution_count": 11,
     "metadata": {},
     "output_type": "execute_result"
    }
   ],
   "source": [
    "id(p)"
   ]
  },
  {
   "cell_type": "code",
   "execution_count": 12,
   "id": "b15d9177-bc24-409f-a510-d3ff19ebb144",
   "metadata": {},
   "outputs": [
    {
     "data": {
      "text/plain": [
       "1816615490256"
      ]
     },
     "execution_count": 12,
     "metadata": {},
     "output_type": "execute_result"
    }
   ],
   "source": [
    "id(q)"
   ]
  },
  {
   "cell_type": "code",
   "execution_count": 13,
   "id": "fb3eef80-a328-4c6b-a6a4-2c004dc4a9e1",
   "metadata": {},
   "outputs": [
    {
     "data": {
      "text/plain": [
       "1816615490448"
      ]
     },
     "execution_count": 13,
     "metadata": {},
     "output_type": "execute_result"
    }
   ],
   "source": [
    "id(r)\n",
    "#memory address of p and r is same"
   ]
  },
  {
   "cell_type": "code",
   "execution_count": 14,
   "id": "c4e1de83-6263-4cdd-9734-5b6443e72839",
   "metadata": {},
   "outputs": [],
   "source": [
    "# membership operartor;it can be used for touples and set also\n",
    "list=[1,2,3,4,5]"
   ]
  },
  {
   "cell_type": "code",
   "execution_count": 15,
   "id": "8b5520b2-5e19-4aa7-96c3-93b3499c4f73",
   "metadata": {},
   "outputs": [
    {
     "data": {
      "text/plain": [
       "False"
      ]
     },
     "execution_count": 15,
     "metadata": {},
     "output_type": "execute_result"
    }
   ],
   "source": [
    "10 in list"
   ]
  },
  {
   "cell_type": "code",
   "execution_count": 16,
   "id": "ec60f9a9-47a6-4c22-a084-46866eb023f1",
   "metadata": {},
   "outputs": [
    {
     "data": {
      "text/plain": [
       "True"
      ]
     },
     "execution_count": 16,
     "metadata": {},
     "output_type": "execute_result"
    }
   ],
   "source": [
    "1 in list"
   ]
  },
  {
   "cell_type": "code",
   "execution_count": 17,
   "id": "f1a806a8-d897-49b6-ad30-d8882bf7070c",
   "metadata": {},
   "outputs": [
    {
     "data": {
      "text/plain": [
       "True"
      ]
     },
     "execution_count": 17,
     "metadata": {},
     "output_type": "execute_result"
    }
   ],
   "source": [
    "10 not in list"
   ]
  },
  {
   "cell_type": "code",
   "execution_count": 18,
   "id": "db2674d8-c59f-46c0-aef8-b72ff5f84a3e",
   "metadata": {},
   "outputs": [
    {
     "data": {
      "text/plain": [
       "True"
      ]
     },
     "execution_count": 18,
     "metadata": {},
     "output_type": "execute_result"
    }
   ],
   "source": [
    "st='data science and machine learning'\n",
    "'data' in st \n",
    "#membership operator can be used for string data type also"
   ]
  },
  {
   "cell_type": "code",
   "execution_count": 19,
   "id": "5b0a0772-b1a7-4411-bbb9-e336eb0faec2",
   "metadata": {},
   "outputs": [
    {
     "data": {
      "text/plain": [
       "15"
      ]
     },
     "execution_count": 19,
     "metadata": {},
     "output_type": "execute_result"
    }
   ],
   "source": [
    "#bitwise operator\n",
    "#x=1010;in decimal 10\n",
    "#y=0101;in decimal 5\n",
    "#x|y=1111;in decimal 15\n",
    "#x&y=0000;in decimal 0\n",
    "x=10\n",
    "y=5\n",
    "x|y#bitwise or"
   ]
  },
  {
   "cell_type": "code",
   "execution_count": 20,
   "id": "490cb419-1218-4868-a677-79cee6d0dedb",
   "metadata": {},
   "outputs": [
    {
     "data": {
      "text/plain": [
       "0"
      ]
     },
     "execution_count": 20,
     "metadata": {},
     "output_type": "execute_result"
    }
   ],
   "source": [
    "x&y#bitwise and"
   ]
  },
  {
   "cell_type": "code",
   "execution_count": 21,
   "id": "7bd4e980-00a4-49ad-8ee7-8b9c7e11b434",
   "metadata": {},
   "outputs": [
    {
     "data": {
      "text/plain": [
       "20"
      ]
     },
     "execution_count": 21,
     "metadata": {},
     "output_type": "execute_result"
    }
   ],
   "source": [
    "a=10#in binary 00001010\n",
    "a<<1#left shift ;00010100"
   ]
  },
  {
   "cell_type": "code",
   "execution_count": 22,
   "id": "95fc46a7-47f4-4d2f-ab98-eaee60afa876",
   "metadata": {},
   "outputs": [
    {
     "data": {
      "text/plain": [
       "5"
      ]
     },
     "execution_count": 22,
     "metadata": {},
     "output_type": "execute_result"
    }
   ],
   "source": [
    "a>>1#right shift ;00000101"
   ]
  },
  {
   "cell_type": "code",
   "execution_count": 23,
   "id": "2aa580d8-a6a1-40e5-b855-65bd5d7e34a9",
   "metadata": {},
   "outputs": [
    {
     "data": {
      "text/plain": [
       "2"
      ]
     },
     "execution_count": 23,
     "metadata": {},
     "output_type": "execute_result"
    }
   ],
   "source": [
    "a>>2"
   ]
  },
  {
   "cell_type": "code",
   "execution_count": 24,
   "id": "948dc9c2-76b6-4df0-96f9-da789c3bec2d",
   "metadata": {},
   "outputs": [
    {
     "data": {
      "text/plain": [
       "40"
      ]
     },
     "execution_count": 24,
     "metadata": {},
     "output_type": "execute_result"
    }
   ],
   "source": [
    "a<<2"
   ]
  },
  {
   "cell_type": "code",
   "execution_count": 25,
   "id": "c6af63ce-ff81-4c8d-956d-f36bc2bdf306",
   "metadata": {},
   "outputs": [
    {
     "data": {
      "text/plain": [
       "True"
      ]
     },
     "execution_count": 25,
     "metadata": {},
     "output_type": "execute_result"
    }
   ],
   "source": [
    "#comparison operator\n",
    "1==1"
   ]
  },
  {
   "cell_type": "code",
   "execution_count": 26,
   "id": "46cec499-82e5-4069-a017-d56e962832e5",
   "metadata": {},
   "outputs": [
    {
     "data": {
      "text/plain": [
       "True"
      ]
     },
     "execution_count": 26,
     "metadata": {},
     "output_type": "execute_result"
    }
   ],
   "source": [
    "#logical operator\n",
    "b=10\n",
    "c=12\n",
    "b>1 and b>5"
   ]
  },
  {
   "cell_type": "code",
   "execution_count": 27,
   "id": "e5e4a412-c546-4f6a-aa5b-d83ddb6631e8",
   "metadata": {},
   "outputs": [
    {
     "data": {
      "text/plain": [
       "True"
      ]
     },
     "execution_count": 27,
     "metadata": {},
     "output_type": "execute_result"
    }
   ],
   "source": [
    "c>2 or c>14"
   ]
  },
  {
   "cell_type": "code",
   "execution_count": 28,
   "id": "c5c09388-7ba1-43af-93e5-9462d68ee4c0",
   "metadata": {},
   "outputs": [
    {
     "data": {
      "text/plain": [
       "False"
      ]
     },
     "execution_count": 28,
     "metadata": {},
     "output_type": "execute_result"
    }
   ],
   "source": [
    "not(c>2 or c>14)"
   ]
  }
 ],
 "metadata": {
  "kernelspec": {
   "display_name": "Python 3 (ipykernel)",
   "language": "python",
   "name": "python3"
  },
  "language_info": {
   "codemirror_mode": {
    "name": "ipython",
    "version": 3
   },
   "file_extension": ".py",
   "mimetype": "text/x-python",
   "name": "python",
   "nbconvert_exporter": "python",
   "pygments_lexer": "ipython3",
   "version": "3.13.7"
  }
 },
 "nbformat": 4,
 "nbformat_minor": 5
}
